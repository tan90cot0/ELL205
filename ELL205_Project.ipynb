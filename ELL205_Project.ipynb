{
  "nbformat": 4,
  "nbformat_minor": 0,
  "metadata": {
    "colab": {
      "name": "ELL205 Project.ipynb",
      "provenance": [],
      "collapsed_sections": []
    },
    "kernelspec": {
      "name": "python3",
      "display_name": "Python 3"
    },
    "language_info": {
      "name": "python"
    }
  },
  "cells": [
    {
      "cell_type": "code",
      "source": [
        "### CONVOLUTION \n",
        "\n",
        "import numpy as np\n",
        "import matplotlib.pyplot as plt\n",
        "from PIL import Image\n",
        "\n",
        "def convolution(image, kernel):\n",
        "  image_h = image.shape[0]\n",
        "  image_w = image.shape[1]\n",
        "    \n",
        "  kernel_h = kernel.shape[0]\n",
        "  kernel_w = kernel.shape[1]\n",
        "\n",
        "  h = kernel_h // 2\n",
        "  w = kernel_w // 2\n",
        "\n",
        "  ## Padding the image \n",
        "  if(len(image.shape) == 3):\n",
        "      image_pad = np.pad(image, pad_width=(\n",
        "          (h,h), (w,w),\n",
        "          (0,0)), mode='constant', \n",
        "          constant_values=0).astype(np.float32)\n",
        "\n",
        "  elif(len(image.shape) == 2):\n",
        "      image_pad = np.pad(image, pad_width=(\n",
        "          (h,h),(w,w)), mode='constant', \n",
        "          constant_values=0).astype(np.float32)\n",
        "    \n",
        "  image_conv = np.zeros(image_pad.shape)\n",
        "\n",
        "  #Performing the convolution  \n",
        "  for i in range(h, image_pad.shape[0]-h):\n",
        "      for j in range(w, image_pad.shape[1]-w):\n",
        "          x = image_pad[i-h:i-h+kernel_h, j-w:j-w+kernel_w]\n",
        "          x = x.flatten()*kernel.flatten()\n",
        "          image_conv[i][j] = x.sum()\n",
        "  h_end = -h\n",
        "  w_end = -w\n",
        "  \n",
        "  if(h == 0):\n",
        "      return image_conv[h:,w:w_end]\n",
        "  if(w == 0):\n",
        "      return image_conv[h:h_end,w:]\n",
        "\n",
        "  return image_conv[h:h_end,w:w_end]\n",
        "\n",
        "### APPLYING THE GAUSSIAN FILTER\n",
        "\n",
        "def GaussianFilter(image, sigma):\n",
        "    image = Image.open(image).convert('L')\n",
        "    image.save('/gray.jpg')\n",
        "    image = np.asarray(image)\n",
        "    filter_size = 2 * int(4 * sigma + 0.5) + 1\n",
        "    #filter_size = \n",
        "    #Modify as per noise removal requirement\n",
        "    #Currently setting 1\n",
        "    #Don't want to end up blurring too many edges\n",
        "\n",
        "    gaussian_filter = np.zeros((filter_size, filter_size), np.float32)\n",
        "    m = filter_size//2\n",
        "    n = filter_size//2\n",
        "    \n",
        "    for x in range(-m, m+1):\n",
        "        for y in range(-n, n+1):\n",
        "            x1 = 2*np.pi*(sigma**2)\n",
        "            x2 = np.exp(-(x**2 + y**2)/(2* sigma**2))\n",
        "            gaussian_filter[x+m, y+n] = (1/x1)*x2\n",
        "    \n",
        "    im_filtered = np.zeros_like(image, dtype=np.float32)\n",
        "    \n",
        "    #for c in range(3):\n",
        "     #   im_filtered[:, :, c] = convolution(image[:, :, c], gaussian_filter)\n",
        "\n",
        "    im_filtered[:,:] = convolution(image[:,:],gaussian_filter)\n",
        "    \n",
        "    print(\"DONE!\")\n",
        "    out = Image.fromarray(im_filtered.astype(np.uint8))\n",
        "    out.save('/output.jpg')\n",
        "    \n",
        "    return (im_filtered.astype(np.uint8))\n",
        "\n",
        "GaussianFilter(\"test.jpg\",1.5)\n"
      ],
      "metadata": {
        "id": "rRPvzCXDBpTl",
        "colab": {
          "base_uri": "https://localhost:8080/"
        },
        "outputId": "ee83820d-caa4-4f8d-8adf-be6439cc8a3e"
      },
      "execution_count": null,
      "outputs": [
        {
          "output_type": "stream",
          "name": "stdout",
          "text": [
            "DONE!\n"
          ]
        },
        {
          "output_type": "execute_result",
          "data": {
            "text/plain": [
              "array([[ 99, 133, 152, ..., 148, 131,  98],\n",
              "       [132, 178, 203, ..., 198, 176, 131],\n",
              "       [149, 201, 229, ..., 224, 198, 148],\n",
              "       ...,\n",
              "       [148, 198, 224, ..., 224, 198, 148],\n",
              "       [131, 176, 198, ..., 198, 176, 131],\n",
              "       [ 98, 131, 148, ..., 148, 131,  98]], dtype=uint8)"
            ]
          },
          "metadata": {},
          "execution_count": 1
        }
      ]
    },
    {
      "cell_type": "code",
      "source": [
        "# Below are 3 different hard-coded high pass filters\n",
        "\n",
        "# hpf1 = np.zeros((3, 3), np.float32)\n",
        "\n",
        "# for x in range(3):\n",
        "#     for y in range(3):\n",
        "#         if ((x == 1) and (y == 1)):\n",
        "#             hpf1[x, y] = 7.0/8.0\n",
        "#         else:\n",
        "#           hpf1[x, y] = -1.0/8.0\n",
        "      \n",
        "hpf1 = np.zeros((3, 3), np.float32)\n",
        "\n",
        "hpf1[0, 0] = 0\n",
        "hpf1[0, 2] = 0\n",
        "hpf1[2, 0] = 0\n",
        "hpf1[2, 2] = 0\n",
        "hpf1[0, 1] = -1\n",
        "hpf1[1, 0] = -1\n",
        "hpf1[2, 1] = -1\n",
        "hpf1[1, 2] = -1\n",
        "hpf1[1, 1] = 4\n",
        "\n",
        "\n",
        "hpf2 = np.zeros((3, 3), np.float32)\n",
        "\n",
        "for x in range(3):\n",
        "    for y in range(3):\n",
        "        if ((x == 1) and (y == 1)):\n",
        "            hpf2[x, y] = 8.0/9.0\n",
        "        else:\n",
        "          hpf2[x, y] = -1.0/9.0\n",
        "        \n",
        "hpf4 = np.zeros((4, 4), np.float32)\n",
        "\n",
        "for x in range(4):\n",
        "    for y in range(4):\n",
        "        if ((x == 1) and (y == 1)) or ((x == 1) and (y == 2)) or ((x == 2) and (y == 1)) or ((x == 2) and (y == 2)):\n",
        "            hpf4[x, y] = 3.0/16.0\n",
        "        else:\n",
        "          hpf4[x, y] = -1.0/16.0\n",
        "\n",
        "\n",
        "  \n",
        "\n",
        "hpf3 = np.zeros((5, 5), np.float32)\n",
        "\n",
        "hpf3[0, 0] = 0\n",
        "hpf3[0, 4] = 0\n",
        "hpf3[4, 0] = 0\n",
        "hpf3[4, 4] = 0\n",
        "hpf3[0, 1] = -1\n",
        "hpf3[0, 2] = -1\n",
        "hpf3[0, 3] = -1\n",
        "hpf3[1, 0] = -1\n",
        "hpf3[1, 4] = -1\n",
        "hpf3[2, 0] = -1\n",
        "hpf3[2, 4] = -1\n",
        "hpf3[3, 0] = -1\n",
        "hpf3[3, 4] = -1\n",
        "hpf3[4, 1] = -1\n",
        "hpf3[4, 2] = -1\n",
        "hpf3[4, 3] = -1\n",
        "hpf3[1, 1] = 2\n",
        "hpf3[1, 3] = 2\n",
        "hpf3[3, 1] = 2\n",
        "hpf3[3, 3] = 2\n",
        "hpf3[1, 2] = -3\n",
        "hpf3[2, 1] = -3\n",
        "hpf3[2, 3] = -3\n",
        "hpf3[3, 2] = -3\n",
        "hpf3[2, 2] = 16\n",
        "\n",
        "print(hpf3)\n",
        "\n",
        "# hpf4 = np.zeros((4, 4), np.float32)\n",
        "\n",
        "# for x in range(4):\n",
        "#     for y in range(4):\n",
        "#         if ((x == 1) and (y == 1)) or ((x == 1) and (y == 2)) or ((x == 2) and (y == 1)) or ((x == 2) and (y == 2)):\n",
        "#             hpf4[x, y] = 3\n",
        "#         else:\n",
        "#           hpf4[x, y] = -1\n",
        "\n",
        "# print(hpf4)\n",
        "# -1 -1 -1 -1\n",
        "# -1 3  3  -1\n",
        "# -1 3  3  -1\n",
        "# -1 -1 -1 -1\n",
        "\n",
        "        "
      ],
      "metadata": {
        "id": "byqZgf-jjL2B",
        "colab": {
          "base_uri": "https://localhost:8080/"
        },
        "outputId": "847b5d41-cb2d-4992-ed4c-dae242890f4c"
      },
      "execution_count": null,
      "outputs": [
        {
          "output_type": "stream",
          "name": "stdout",
          "text": [
            "[[ 0. -1. -1. -1.  0.]\n",
            " [-1.  2. -3.  2. -1.]\n",
            " [-1. -3. 16. -3. -1.]\n",
            " [-1.  2. -3.  2. -1.]\n",
            " [ 0. -1. -1. -1.  0.]]\n"
          ]
        }
      ]
    },
    {
      "cell_type": "code",
      "source": [
        "# Trying out with High Pass filters on the gaussian filtered image\n",
        "\n",
        "def HighPassFiltering(image, filter, output_file_name):\n",
        "\n",
        "    output_array = np.zeros_like(image, dtype=np.float32)\n",
        "    output_array = convolution(image[:,:],filter)\n",
        "\n",
        "    print(\"DONE!\")\n",
        "    output = Image.fromarray(output_array.astype(np.uint8))\n",
        "    output.save(output_file_name)\n",
        "    \n",
        "    return (output_array.astype(np.uint8))\n",
        "\n",
        "\n",
        "gaussian_image = GaussianFilter(\"test.jpg\",1.5)\n",
        "\n",
        "high_pass_test_1 = HighPassFiltering(gaussian_image, hpf1/9.0, '/high_pass_test_1.jpg')\n",
        "high_pass_test_2 = HighPassFiltering(gaussian_image, hpf2, '/high_pass_test_2.jpg')\n",
        "high_pass_test_3 = HighPassFiltering(gaussian_image, hpf3/25.0, '/high_pass_test_3.jpg')\n",
        "high_pass_test_4 = HighPassFiltering(gaussian_image, hpf4, '/high_pass_test_4.jpg')\n",
        "# high_pass_test_5 = HighPassFiltering(gaussian_image, hpf5/9.0, '/high_pass_test_5.jpg')\n"
      ],
      "metadata": {
        "id": "BqZrq1xEQpw4",
        "colab": {
          "base_uri": "https://localhost:8080/"
        },
        "outputId": "c2073bd3-995f-400e-d8e5-cc052f1158d0"
      },
      "execution_count": null,
      "outputs": [
        {
          "output_type": "stream",
          "name": "stdout",
          "text": [
            "DONE!\n",
            "DONE!\n",
            "DONE!\n",
            "DONE!\n",
            "DONE!\n"
          ]
        }
      ]
    },
    {
      "cell_type": "code",
      "source": [
        "# Trying with direct application of high pass filters\n",
        "\n",
        "def DirectHighPass(image, filter, output_image):\n",
        "\n",
        "    image = Image.open(image)\n",
        "    img_data = image.getdata()\n",
        "    lst=[]\n",
        "    for i in img_data:\n",
        "        lst.append(i[0]*0.2125+i[1]*0.7174+i[2]*0.0721)\n",
        "    image = Image.new(\"L\", image.size)\n",
        "    image.putdata(lst)\n",
        "    image.convert()\n",
        "    image.save('/gray.jpg')\n",
        "    image = np.asarray(image)\n",
        "    \n",
        "    output_array = np.zeros_like(image, dtype=np.float32)\n",
        "    output_array[:,:] = convolution(image[:,:],filter)\n",
        "    \n",
        "    print(\"DONE!\")\n",
        "    out = Image.fromarray(output_array.astype(np.uint8))\n",
        "    out.save(output_image)\n",
        "    \n",
        "    return (output_array.astype(np.uint8))\n",
        "\n",
        "direct_high_pass_1 = DirectHighPass('test.jpg', hpf1/9.0, '/direct_high_pass_1.jpg')\n",
        "direct_high_pass_2 = DirectHighPass('test.jpg', hpf2, '/direct_high_pass_2.jpg')\n",
        "direct_high_pass_3 = DirectHighPass('test.jpg', hpf3/25.0, '/direct_high_pass_3.jpg')\n",
        "direct_high_pass_4 = DirectHighPass('test.jpg', hpf4, '/direct_high_pass_4.jpg')\n",
        "\n"
      ],
      "metadata": {
        "id": "YaUiVM7OQXtc",
        "colab": {
          "base_uri": "https://localhost:8080/"
        },
        "outputId": "8ecff1f6-dc2e-4a15-fed5-7526708c7dfe"
      },
      "execution_count": null,
      "outputs": [
        {
          "output_type": "stream",
          "name": "stdout",
          "text": [
            "DONE!\n",
            "DONE!\n",
            "DONE!\n",
            "DONE!\n"
          ]
        }
      ]
    },
    {
      "cell_type": "code",
      "source": [
        "###### REFERENCES \n",
        "\n",
        "#https://www2.geog.soton.ac.uk/users/trevesr/obs/rseo/high_pass_filters.html\n",
        "#https://www.l3harrisgeospatial.com/docs/highpassfilter.html"
      ],
      "metadata": {
        "id": "p_6WwBSK0tnd"
      },
      "execution_count": null,
      "outputs": []
    }
  ]
}